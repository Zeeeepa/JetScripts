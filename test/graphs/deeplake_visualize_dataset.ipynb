{
  "cells": [
    {
      "cell_type": "code",
      "execution_count": 12,
      "metadata": {},
      "outputs": [],
      "source": [
        "from jet.llm.ollama.constants import OLLAMA_LARGE_EMBED_MODEL, OLLAMA_SMALL_LLM_MODEL\n",
        "from jet.llm.ollama.models import OLLAMA_MODEL_EMBEDDING_TOKENS\n",
        "\n",
        "\n",
        "data_dir = \"/Users/jethroestrada/Desktop/External_Projects/Jet_Projects/JetScripts/data/jet-resume/data\"\n",
        "store_path = \"/Users/jethroestrada/Desktop/External_Projects/Jet_Projects/JetScripts/test/graphs/generated/run_deeplake/pg_essay_deeplake\"\n",
        "\n",
        "llm_model = OLLAMA_SMALL_LLM_MODEL\n",
        "embed_model = OLLAMA_LARGE_EMBED_MODEL\n",
        "chunk_size: int = OLLAMA_MODEL_EMBEDDING_TOKENS[embed_model]\n",
        "chunk_overlap: int = 40"
      ]
    },
    {
      "cell_type": "code",
      "execution_count": 13,
      "metadata": {},
      "outputs": [
        {
          "data": {
            "text/plain": [
              "_EnhancedSettings(_llm=Ollama(callback_manager=<llama_index.core.callbacks.base.CallbackManager object at 0x3237e7b00>, system_prompt=None, messages_to_prompt=<function messages_to_prompt at 0x322391ee0>, completion_to_prompt=<function default_completion_to_prompt at 0x322460680>, output_parser=None, pydantic_program_mode=<PydanticProgramMode.DEFAULT: 'default'>, query_wrapper_prompt=None, base_url='http://localhost:11434', model='llama3.2', temperature=0.1, context_window=3900, request_timeout=300.0, prompt_key='prompt', json_mode=False, additional_kwargs={}, is_function_calling_model=True, keep_alive=None, max_tokens=0.4), _embed_model=OllamaEmbedding(model_name='nomic-embed-text', embed_batch_size=32, callback_manager=<llama_index.core.callbacks.base.CallbackManager object at 0x3237e7b00>, num_workers=None, base_url='http://localhost:11434', ollama_additional_kwargs={}), _callback_manager=None, _tokenizer=None, _node_parser=SentenceSplitter(include_metadata=True, include_prev_next_rel=True, callback_manager=<llama_index.core.callbacks.base.CallbackManager object at 0x3237e7b00>, id_func=<function default_id_func at 0x3224be020>, chunk_size=1024, chunk_overlap=100, separator=' ', paragraph_separator='\\n\\n\\n', secondary_chunking_regex='[^,.;。？！]+[,.;。？！]?'), _prompt_helper=OllamaPromptHelper(llm=Ollama(callback_manager=<llama_index.core.callbacks.base.CallbackManager object at 0x31f3abe90>, system_prompt=None, messages_to_prompt=<function messages_to_prompt at 0x322391ee0>, completion_to_prompt=<function default_completion_to_prompt at 0x322460680>, output_parser=None, pydantic_program_mode=<PydanticProgramMode.DEFAULT: 'default'>, query_wrapper_prompt=None, base_url='http://localhost:11434', model='llama3.2', temperature=0.75, context_window=3900, request_timeout=30.0, prompt_key='prompt', json_mode=False, additional_kwargs={}, is_function_calling_model=True, keep_alive=None, max_tokens=0.4), context_window=3072, system_prompt=None, num_output=256, chunk_overlap_ratio=0.1, chunk_size_limit=None, separator=' '), _transformations=None)"
            ]
          },
          "execution_count": 13,
          "metadata": {},
          "output_type": "execute_result"
        }
      ],
      "source": [
        "from jet.llm.ollama.base import initialize_ollama_settings\n",
        "initialize_ollama_settings({\n",
        "    \"llm_model\": llm_model,\n",
        "    \"embed_model\": embed_model,\n",
        "})"
      ]
    },
    {
      "cell_type": "code",
      "execution_count": 14,
      "metadata": {},
      "outputs": [],
      "source": [
        "from jet.llm.ollama.base import OllamaEmbedding\n",
        "\n",
        "\n",
        "def ollama_embedding_function(texts, model=embed_model):\n",
        "    if isinstance(texts, str):\n",
        "        texts = [texts]\n",
        "\n",
        "    embed_model = OllamaEmbedding(model_name=model)\n",
        "    results = embed_model.get_general_text_embedding(texts)\n",
        "    return results\n",
        "\n",
        "\n",
        "embedding_function = ollama_embedding_function"
      ]
    },
    {
      "cell_type": "code",
      "execution_count": 15,
      "metadata": {},
      "outputs": [],
      "source": [
        "from jet._token.token_utils import get_ollama_tokenizer\n",
        "from llama_index.core.node_parser.text.sentence import SentenceSplitter\n",
        "from llama_index.core.readers.file.base import SimpleDirectoryReader\n",
        "\n",
        "\n",
        "documents = SimpleDirectoryReader(data_dir).load_data()"
      ]
    },
    {
      "cell_type": "code",
      "execution_count": 16,
      "metadata": {},
      "outputs": [
        {
          "data": {
            "text/plain": [
              "7"
            ]
          },
          "execution_count": 16,
          "metadata": {},
          "output_type": "execute_result"
        }
      ],
      "source": [
        "len(documents)"
      ]
    },
    {
      "cell_type": "code",
      "execution_count": 17,
      "metadata": {},
      "outputs": [
        {
          "data": {
            "application/vnd.jupyter.widget-view+json": {
              "model_id": "44e09101b362413fb3b46c8cdffe231c",
              "version_major": 2,
              "version_minor": 0
            },
            "text/plain": [
              "Parsing nodes:   0%|          | 0/7 [00:00<?, ?it/s]"
            ]
          },
          "metadata": {},
          "output_type": "display_data"
        }
      ],
      "source": [
        "splitter = SentenceSplitter(\n",
        "    chunk_size=chunk_size,\n",
        "    chunk_overlap=chunk_overlap,\n",
        "    tokenizer=get_ollama_tokenizer(embed_model).encode\n",
        ")\n",
        "all_nodes = splitter.get_nodes_from_documents(documents, show_progress=True)"
      ]
    },
    {
      "cell_type": "code",
      "execution_count": 18,
      "metadata": {},
      "outputs": [
        {
          "data": {
            "text/plain": [
              "7"
            ]
          },
          "execution_count": 18,
          "metadata": {},
          "output_type": "execute_result"
        }
      ],
      "source": [
        "len(all_nodes)"
      ]
    },
    {
      "cell_type": "code",
      "execution_count": 19,
      "metadata": {},
      "outputs": [
        {
          "name": "stdout",
          "output_type": "stream",
          "text": [
            "/Users/jethroestrada/Desktop/External_Projects/Jet_Projects/JetScripts/test/graphs/generated/run_deeplake/pg_essay_deeplake loaded successfully.\n",
            "\n"
          ]
        },
        {
          "name": "stderr",
          "output_type": "stream",
          "text": []
        }
      ],
      "source": [
        "import deeplake\n",
        "ds = deeplake.load(store_path)"
      ]
    },
    {
      "cell_type": "code",
      "execution_count": 20,
      "metadata": {},
      "outputs": [
        {
          "name": "stdout",
          "output_type": "stream",
          "text": [
            "Dataset(path='/Users/jethroestrada/Desktop/External_Projects/Jet_Projects/JetScripts/test/graphs/generated/run_deeplake/pg_essay_deeplake', tensors=['embedding', 'id', 'metadata', 'text'])\n",
            "\n",
            "  tensor      htype      shape     dtype  compression\n",
            "  -------    -------    -------   -------  ------- \n",
            " embedding  embedding  (14, 768)  float32   None   \n",
            "    id        text      (14, 1)     str     None   \n",
            " metadata     json      (14, 1)     str     None   \n",
            "   text       text      (14, 1)     str     None   \n"
          ]
        }
      ],
      "source": [
        "ds.summary()"
      ]
    },
    {
      "cell_type": "code",
      "execution_count": 21,
      "metadata": {},
      "outputs": [
        {
          "name": "stdout",
          "output_type": "stream",
          "text": [
            "Deep Lake Dataset in /Users/jethroestrada/Desktop/External_Projects/Jet_Projects/JetScripts/test/graphs/generated/run_deeplake/pg_essay_deeplake already exists, loading from the storage\n"
          ]
        }
      ],
      "source": [
        "from deeplake.core.vectorstore import VectorStore\n",
        "from jet.transformers.formatters import format_json\n",
        "from jet.logger import logger\n",
        "\n",
        "# Perform a vector search\n",
        "vector_store = VectorStore(path=store_path, embedding_function=embedding_function)"
      ]
    },
    {
      "cell_type": "code",
      "execution_count": 34,
      "metadata": {},
      "outputs": [
        {
          "name": "stdout",
          "output_type": "stream",
          "text": [
            "\u001b[1m\u001b[38;5;208mCalling OllamaEmbedding embed...\u001b[0m\n",
            "\u001b[38;5;250mEmbed model:\u001b[0m \u001b[1m\u001b[38;5;45mnomic-embed-text\u001b[0m \u001b[1m\u001b[38;5;45m(768)\u001b[0m\n",
            "\u001b[1m\u001b[38;5;45mBatch Tokens:\u001b[0m \u001b[1m\u001b[38;5;40m768\u001b[0m\n",
            "\u001b[1m\u001b[38;5;213mTell me about yourself and your recent achievements.\u001b[0m\n",
            "\u001b[1m\u001b[38;5;40m{\n",
            "  \"score\": [\n",
            "    0.5524558424949646,\n",
            "    0.5524558424949646,\n",
            "    0.5063320994377136,\n",
            "    0.5063320994377136\n",
            "  ],\n",
            "  \"id\": [\n",
            "    \"8bc6f894-d73e-11ef-98f0-32e9cbb94093\",\n",
            "    \"5e24e43c-d73e-11ef-aab6-32e9cbb94093\",\n",
            "    \"8bc6f718-d73e-11ef-98f0-32e9cbb94093\",\n",
            "    \"5e24e22a-d73e-11ef-aab6-32e9cbb94093\"\n",
            "  ],\n",
            "  \"metadata\": [\n",
            "    \"project_mobile_apps.md\",\n",
            "    \"project_mobile_apps.md\",\n",
            "    \"companies.md\",\n",
            "    \"companies.md\"\n",
            "  ],\n",
            "  \"text\": [\n",
            "    \"# Mobile apps\\n\\na.) JABA AI\\nAchievements:\\n- Worked under pressure to but delivered initial version of web app for investor demo\\n- Developed iOS app from scratch and deployed multiple App Store release versions\\n- Key features: Chatbot, TikTok - Instagram - Youtube video responses\\n- Technologies used: React, React Native, Expo\\n\\nb.) Graduapp\\nAchievements:\\n- As one of the pioneers, I was involved in the selection of technologies and architecture for the project\\n- Published Graduapp on iOS and Android platforms, with an admin site for school administrators to manage content\\n- Key features: Real-time feeds, Tagging, Comments, Gallery, Notifications, and more\\n- Technologies used: React, React Native, Node.js, Firebase, MongoDB, AWS, Redux, Jest\\n\\nc.) EZ Myoma\\nAchievements:\\n- The healthcare provider (Zuellig Pharma) created a drug to treat uterine fibroids so they needed a mobile app where they can see the progress of the patients within a medication cycle \\n- Developed an iOS and Android app that allows women to track symptoms associated with uterine fibroids\\n- Can be used by doctors to monitor patients\\n- Key features: Medication cycle tracking, Calendar diary with patient notes, Progress charts, and more\\n- Technologies used: React Native, Redux\",\n",
            "    \"# Mobile apps\\n\\na.) JABA AI\\nAchievements:\\n- Worked under pressure to but delivered initial version of web app for investor demo\\n- Developed iOS app from scratch and deployed multiple App Store release versions\\n- Key features: Chatbot, TikTok - Instagram - Youtube video responses\\n- Technologies used: React, React Native, Expo\\n\\nb.) Graduapp\\nAchievements:\\n- As one of the pioneers, I was involved in the selection of technologies and architecture for the project\\n- Published Graduapp on iOS and Android platforms, with an admin site for school administrators to manage content\\n- Key features: Real-time feeds, Tagging, Comments, Gallery, Notifications, and more\\n- Technologies used: React, React Native, Node.js, Firebase, MongoDB, AWS, Redux, Jest\\n\\nc.) EZ Myoma\\nAchievements:\\n- The healthcare provider (Zuellig Pharma) created a drug to treat uterine fibroids so they needed a mobile app where they can see the progress of the patients within a medication cycle \\n- Developed an iOS and Android app that allows women to track symptoms associated with uterine fibroids\\n- Can be used by doctors to monitor patients\\n- Key features: Medication cycle tracking, Calendar diary with patient notes, Progress charts, and more\\n- Technologies used: React Native, Redux\",\n",
            "    \"# Companies\\n\\nJob History (from most recent)\\n1.) Jul 2020 - Present\\n- JulesAI (formerly Macanta Software Ltd.)\\n- Position: Web / Mobile Developer\\n- Task: Developed a white label CRM system for different businesses that is customizable to align with specific workflows and requirements.\\n- Currently maintaining and improving the system based on client feedback and requirements.\\n- Key technologies: React, React Native, AWS\\n\\n2.) Jan 2019 - Jun 2020\\n- 8WeekApp\\n- Position: Web / Mobile Developer\\n- Task: Developed a social networking app (Graduapp) for students, parents, teachers, and schools. The app serves as an online journal of their experience as a student at their institution.\\n- Key technologies: React, React Native, Node.js, Firebase, MongoDB\\n\\n3.) Nov 2016 - Jan 2019\\n- ADEC Innovations\\n- Position: Web / Mobile Developer\\n- Task: Worked on projects ranging from in-house to outsourced web and mobile applications.\\n- Key technologies: React, React Native, Node.js, Firebase Firestore, Google Cloud Functions\\n\\n4.) Nov 2014 - Sep 2016\\n- Asia Pacific Digital\\n- Position: Web / Mobile App Developer\\n- Task: Worked on web and mobile projects.\\n- Key technologies: AngularJS, Ionic, jQuery\\n\\n5.) Jun 2012 - Nov 2014\\n- Entertainment Gateway Group (now Yondu)\\n- Position: Web Developer\\n- Task: Worked on features for an insurance web app.\\n- Key technologies: Java, JavaScript, jQuery\",\n",
            "    \"# Companies\\n\\nJob History (from most recent)\\n1.) Jul 2020 - Present\\n- JulesAI (formerly Macanta Software Ltd.)\\n- Position: Web / Mobile Developer\\n- Task: Developed a white label CRM system for different businesses that is customizable to align with specific workflows and requirements.\\n- Currently maintaining and improving the system based on client feedback and requirements.\\n- Key technologies: React, React Native, AWS\\n\\n2.) Jan 2019 - Jun 2020\\n- 8WeekApp\\n- Position: Web / Mobile Developer\\n- Task: Developed a social networking app (Graduapp) for students, parents, teachers, and schools. The app serves as an online journal of their experience as a student at their institution.\\n- Key technologies: React, React Native, Node.js, Firebase, MongoDB\\n\\n3.) Nov 2016 - Jan 2019\\n- ADEC Innovations\\n- Position: Web / Mobile Developer\\n- Task: Worked on projects ranging from in-house to outsourced web and mobile applications.\\n- Key technologies: React, React Native, Node.js, Firebase Firestore, Google Cloud Functions\\n\\n4.) Nov 2014 - Sep 2016\\n- Asia Pacific Digital\\n- Position: Web / Mobile App Developer\\n- Task: Worked on web and mobile projects.\\n- Key technologies: AngularJS, Ionic, jQuery\\n\\n5.) Jun 2012 - Nov 2014\\n- Entertainment Gateway Group (now Yondu)\\n- Position: Web Developer\\n- Task: Worked on features for an insurance web app.\\n- Key technologies: Java, JavaScript, jQuery\"\n",
            "  ]\n",
            "}\u001b[0m\n"
          ]
        }
      ],
      "source": [
        "query = \"Tell me about yourself and your recent achievements.\"\n",
        "results = vector_store.search(\n",
        "    embedding_data=query,\n",
        "    k=4,\n",
        ")\n",
        "logger.info(query)\n",
        "logger.success(format_json(results))"
      ]
    },
    {
      "cell_type": "code",
      "execution_count": 35,
      "metadata": {},
      "outputs": [
        {
          "name": "stdout",
          "output_type": "stream",
          "text": [
            "\u001b[1m\u001b[38;5;208mCalling OllamaEmbedding embed...\u001b[0m\n",
            "\u001b[38;5;250mEmbed model:\u001b[0m \u001b[1m\u001b[38;5;45mnomic-embed-text\u001b[0m \u001b[1m\u001b[38;5;45m(768)\u001b[0m\n",
            "\u001b[1m\u001b[38;5;45mBatch Tokens:\u001b[0m \u001b[1m\u001b[38;5;40m768\u001b[0m\n",
            "\u001b[1m\u001b[38;5;213mProvide your primary and secondary skills.\u001b[0m\n",
            "\u001b[1m\u001b[38;5;40m{\n",
            "  \"score\": [\n",
            "    0.5916950702667236,\n",
            "    0.5916950702667236,\n",
            "    0.4691757261753082,\n",
            "    0.4691757261753082\n",
            "  ],\n",
            "  \"id\": [\n",
            "    \"8bc6f948-d73e-11ef-98f0-32e9cbb94093\",\n",
            "    \"5e24e4f0-d73e-11ef-aab6-32e9cbb94093\",\n",
            "    \"8bc6f90c-d73e-11ef-98f0-32e9cbb94093\",\n",
            "    \"5e24e4be-d73e-11ef-aab6-32e9cbb94093\"\n",
            "  ],\n",
            "  \"metadata\": [\n",
            "    \"skills.md\",\n",
            "    \"skills.md\",\n",
            "    \"recent.md\",\n",
            "    \"recent.md\"\n",
            "  ],\n",
            "  \"text\": [\n",
            "    \"# Skills\\n\\nFrontend:\\n- React\\n- React Native\\n- Vanilla JS/CSS\\n- Expo\\n- GraphQL\\n- Redux\\n- Gatsby\\n- TypeScript\\nBackend:\\n- Node.js\\n- Python\\nDatabases:\\n- PostgreSQL\\n- MongoDB\\nPlatforms:\\n- Firebase\\n- AWS\\n- Google Cloud\\nDeveloper Tools:\\n- Photoshop\\n- Jest (Unit testing)\\n- Cypress (Integration testing)\\n- Selenium (E2E testing)\\n- Git\\n- Sentry bug tracker\\n- Android Studio\\n- Xcode\\n- Fastlane\\n- Serverless\\n- ChatGPT\",\n",
            "    \"# Skills\\n\\nFrontend:\\n- React\\n- React Native\\n- Vanilla JS/CSS\\n- Expo\\n- GraphQL\\n- Redux\\n- Gatsby\\n- TypeScript\\nBackend:\\n- Node.js\\n- Python\\nDatabases:\\n- PostgreSQL\\n- MongoDB\\nPlatforms:\\n- Firebase\\n- AWS\\n- Google Cloud\\nDeveloper Tools:\\n- Photoshop\\n- Jest (Unit testing)\\n- Cypress (Integration testing)\\n- Selenium (E2E testing)\\n- Git\\n- Sentry bug tracker\\n- Android Studio\\n- Xcode\\n- Fastlane\\n- Serverless\\n- ChatGPT\",\n",
            "    \"# Recent info\\n\\nJob Status\\nI am applying for the position of a Frontend Web / Mobile Developer or Full Stack Developer roles. Aside from React, React Native and Node.js. I also have extensive experience with Firebase, AWS, MongoDB and PostgreSQL.\\nIf my skills match the criteria for the position, you are welcome to extend an invitation for an interview via email at jethroestrada237@gmail.com, or via Whatsapp at https://wa.me/639101662460.\\n\\nGoals\\n\\n- Develop scalable, performance-oriented, and user-friendly web and mobile applications.\\n- Committed to continuous learning and staying up to date with the latest technologies and trends.\\n- Strive to contribute to the success of your organization and improve existing coding standards.\\n\\nOther Info\\n\\n- Resume link: https://jetbot.vercel.app/resume.pdf\\n- Only used Python to build my resume chatbot (JetBot)\",\n",
            "    \"# Recent info\\n\\nJob Status\\nI am applying for the position of a Frontend Web / Mobile Developer or Full Stack Developer roles. Aside from React, React Native and Node.js. I also have extensive experience with Firebase, AWS, MongoDB and PostgreSQL.\\nIf my skills match the criteria for the position, you are welcome to extend an invitation for an interview via email at jethroestrada237@gmail.com, or via Whatsapp at https://wa.me/639101662460.\\n\\nGoals\\n\\n- Develop scalable, performance-oriented, and user-friendly web and mobile applications.\\n- Committed to continuous learning and staying up to date with the latest technologies and trends.\\n- Strive to contribute to the success of your organization and improve existing coding standards.\\n\\nOther Info\\n\\n- Resume link: https://jetbot.vercel.app/resume.pdf\\n- Only used Python to build my resume chatbot (JetBot)\"\n",
            "  ]\n",
            "}\u001b[0m\n"
          ]
        }
      ],
      "source": [
        "query = \"Provide your primary and secondary skills.\"\n",
        "results = vector_store.search(\n",
        "    embedding_data=query,\n",
        "    k=4,\n",
        ")\n",
        "logger.info(query)\n",
        "logger.success(format_json(results))"
      ]
    },
    {
      "cell_type": "code",
      "execution_count": 36,
      "metadata": {},
      "outputs": [
        {
          "data": {
            "text/html": [
              "\n",
              "        <iframe\n",
              "            width=\"90%\"\n",
              "            height=\"800\"\n",
              "            src=\"https://app.activeloop.ai/visualizer/hub?url=http://localhost:55012/c50fc17e-0f76-42cf-81b6-11f84f672cea/&link_creds_url=http://localhost:55012/creds/c760372a-e91e-4cbb-9e5c-95cb571e9f9a/\"\n",
              "            frameborder=\"0\"\n",
              "            allowfullscreen\n",
              "            \n",
              "        ></iframe>\n",
              "        "
            ],
            "text/plain": [
              "<IPython.lib.display.IFrame at 0x328268890>"
            ]
          },
          "metadata": {},
          "output_type": "display_data"
        }
      ],
      "source": [
        "ds.visualize()"
      ]
    }
  ],
  "metadata": {
    "kernelspec": {
      "display_name": ".venv",
      "language": "python",
      "name": "python3"
    },
    "language_info": {
      "codemirror_mode": {
        "name": "ipython",
        "version": 3
      },
      "file_extension": ".py",
      "mimetype": "text/x-python",
      "name": "python",
      "nbconvert_exporter": "python",
      "pygments_lexer": "ipython3",
      "version": "3.12.7"
    }
  },
  "nbformat": 4,
  "nbformat_minor": 2
}
