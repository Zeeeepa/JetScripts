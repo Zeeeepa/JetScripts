{
 "cells": [
  {
   "cell_type": "code",
   "execution_count": 1,
   "metadata": {},
   "outputs": [],
   "source": [
    "VECTOR_STORE_PATH = \"/Users/jethroestrada/Desktop/External_Projects/Jet_Projects/JetScripts/test/graphs/generated/run_deeplake/pg_essay_deeplake\""
   ]
  },
  {
   "cell_type": "code",
   "execution_count": 2,
   "metadata": {},
   "outputs": [
    {
     "name": "stdout",
     "output_type": "stream",
     "text": [
      "/Users/jethroestrada/Desktop/External_Projects/Jet_Projects/JetScripts/test/graphs/generated/run_deeplake/pg_essay_deeplake loaded successfully.\n",
      "\n"
     ]
    },
    {
     "name": "stderr",
     "output_type": "stream",
     "text": [
      "/Users/jethroestrada/Desktop/External_Projects/AI/repo-libs/visualization/deeplake/deeplake/util/check_latest_version.py:32: UserWarning: A newer version of deeplake (4.1.4) is available. It's recommended that you update to the latest version using `pip install -U deeplake`.\n",
      "  warnings.warn(\n"
     ]
    }
   ],
   "source": [
    "import deeplake\n",
    "ds = deeplake.load(VECTOR_STORE_PATH)"
   ]
  },
  {
   "cell_type": "code",
   "execution_count": 3,
   "metadata": {},
   "outputs": [
    {
     "name": "stdout",
     "output_type": "stream",
     "text": [
      "Dataset(path='/Users/jethroestrada/Desktop/External_Projects/Jet_Projects/JetScripts/test/graphs/generated/run_deeplake/pg_essay_deeplake', tensors=['embedding', 'id', 'metadata', 'text'])\n",
      "\n",
      "  tensor      htype      shape      dtype  compression\n",
      "  -------    -------    -------    -------  ------- \n",
      " embedding  embedding  (14, 1024)  float32   None   \n",
      "    id        text      (14, 1)      str     None   \n",
      " metadata     json      (14, 1)      str     None   \n",
      "   text       text      (14, 1)      str     None   \n"
     ]
    }
   ],
   "source": [
    "ds.summary()"
   ]
  },
  {
   "cell_type": "code",
   "execution_count": 4,
   "metadata": {},
   "outputs": [
    {
     "name": "stdout",
     "output_type": "stream",
     "text": [
      "HINT: Please forward the port - 62975 to your local machine, if you are running on the cloud.\n"
     ]
    },
    {
     "data": {
      "text/html": [
       "\n",
       "        <iframe\n",
       "            width=\"90%\"\n",
       "            height=\"800\"\n",
       "            src=\"https://app.activeloop.ai/visualizer/hub?url=http://localhost:62975/567e6555-cbe9-4d72-a735-cae949852d78/&link_creds_url=http://localhost:62975/creds/321de795-fb57-44fe-aa8e-a014df7d9b32/\"\n",
       "            frameborder=\"0\"\n",
       "            allowfullscreen\n",
       "            \n",
       "        ></iframe>\n",
       "        "
      ],
      "text/plain": [
       "<IPython.lib.display.IFrame at 0x11edee7b0>"
      ]
     },
     "metadata": {},
     "output_type": "display_data"
    },
    {
     "name": "stdout",
     "output_type": "stream",
     "text": [
      " * Serving Flask app 'dataset_visualizer'\n",
      " * Debug mode: off\n"
     ]
    }
   ],
   "source": [
    "ds.visualize()"
   ]
  }
 ],
 "metadata": {
  "kernelspec": {
   "display_name": ".venv",
   "language": "python",
   "name": "python3"
  },
  "language_info": {
   "codemirror_mode": {
    "name": "ipython",
    "version": 3
   },
   "file_extension": ".py",
   "mimetype": "text/x-python",
   "name": "python",
   "nbconvert_exporter": "python",
   "pygments_lexer": "ipython3",
   "version": "3.12.7"
  }
 },
 "nbformat": 4,
 "nbformat_minor": 2
}
