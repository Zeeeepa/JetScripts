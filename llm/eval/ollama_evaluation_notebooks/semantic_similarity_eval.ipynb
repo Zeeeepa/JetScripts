{
 "cells": [
  {
   "attachments": {},
   "cell_type": "markdown",
   "id": "bf17424c",
   "metadata": {},
   "source": [
    "<a href=\"https://colab.research.google.com/github/run-llama/llama_index/blob/main/docs/docs/examples/evaluation/semantic_similarity_eval.ipynb\" target=\"_parent\"><img src=\"https://colab.research.google.com/assets/colab-badge.svg\" alt=\"Open In Colab\"/></a>"
   ]
  },
  {
   "cell_type": "markdown",
   "id": "e2fc20f7-ae02-4846-8071-cfb3c0dca21e",
   "metadata": {},
   "source": [
    "# Embedding Similarity Evaluator"
   ]
  },
  {
   "cell_type": "markdown",
   "id": "f4559f60-a4e7-4c6e-83c9-df55dd8caa72",
   "metadata": {},
   "source": [
    "This notebook shows the `SemanticSimilarityEvaluator`, which evaluates the quality of a question answering system via semantic similarity.\n",
    "\n",
    "Concretely, it calculates the similarity score between embeddings of the generated answer and the reference answer."
   ]
  },
  {
   "attachments": {},
   "cell_type": "markdown",
   "id": "c3600969",
   "metadata": {},
   "source": [
    "If you're opening this Notebook on colab, you will probably need to install LlamaIndex 🦙."
   ]
  },
  {
   "cell_type": "code",
   "execution_count": 1,
   "id": "612f88fd",
   "metadata": {},
   "outputs": [],
   "source": [
    "# !pip install llama-index"
   ]
  },
  {
   "cell_type": "code",
   "execution_count": 2,
   "id": "0d568b09",
   "metadata": {},
   "outputs": [
    {
     "data": {
      "text/plain": [
       "_Settings(_llm=Ollama(callback_manager=<llama_index.core.callbacks.base.CallbackManager object at 0x11483d5e0>, system_prompt=None, messages_to_prompt=<function messages_to_prompt at 0x17aa01ee0>, completion_to_prompt=<function default_completion_to_prompt at 0x17ab24a40>, output_parser=None, pydantic_program_mode=<PydanticProgramMode.DEFAULT: 'default'>, query_wrapper_prompt=None, base_url='http://localhost:11434', model='llama3.1', temperature=0.0, context_window=4096, request_timeout=300.0, prompt_key='prompt', json_mode=False, additional_kwargs={}, is_function_calling_model=True, keep_alive=None), _embed_model=OllamaEmbedding(model_name='nomic-embed-text', embed_batch_size=10, callback_manager=<llama_index.core.callbacks.base.CallbackManager object at 0x11483d5e0>, num_workers=None, base_url='http://localhost:11434', ollama_additional_kwargs={}), _callback_manager=<llama_index.core.callbacks.base.CallbackManager object at 0x11483d5e0>, _tokenizer=None, _node_parser=None, _prompt_helper=None, _transformations=None)"
      ]
     },
     "execution_count": 2,
     "metadata": {},
     "output_type": "execute_result"
    }
   ],
   "source": [
    "from jet.llm.ollama import initialize_ollama_settings\n",
    "initialize_ollama_settings()"
   ]
  },
  {
   "cell_type": "code",
   "execution_count": 3,
   "id": "01b23140-62b5-46f3-97f4-04f4da8aa5c8",
   "metadata": {},
   "outputs": [],
   "source": [
    "from llama_index.core.evaluation import SemanticSimilarityEvaluator\n",
    "\n",
    "evaluator = SemanticSimilarityEvaluator()"
   ]
  },
  {
   "cell_type": "code",
   "execution_count": 4,
   "id": "9180b379-e4de-4d0b-a4f9-2d0d11ac5aad",
   "metadata": {},
   "outputs": [],
   "source": [
    "# This evaluator only uses `response` and `reference`, passing in query does not influence the evaluation\n",
    "# query = 'What is the color of the sky'\n",
    "\n",
    "response = \"The sky is typically blue\"\n",
    "reference = \"\"\"The color of the sky can vary depending on several factors, including time of day, weather conditions, and location.\n",
    "\n",
    "During the day, when the sun is in the sky, the sky often appears blue. \n",
    "This is because of a phenomenon called Rayleigh scattering, where molecules and particles in the Earth's atmosphere scatter sunlight in all directions, and blue light is scattered more than other colors because it travels as shorter, smaller waves. \n",
    "This is why we perceive the sky as blue on a clear day.\n",
    "\"\"\"\n",
    "\n",
    "result = await evaluator.aevaluate(\n",
    "    response=response,\n",
    "    reference=reference,\n",
    ")"
   ]
  },
  {
   "cell_type": "code",
   "execution_count": 5,
   "id": "65996050-fa76-4eee-9550-b3452828c065",
   "metadata": {},
   "outputs": [
    {
     "name": "stdout",
     "output_type": "stream",
     "text": [
      "Score:  0.8409488879332032\n",
      "Passing:  True\n"
     ]
    }
   ],
   "source": [
    "print(\"Score: \", result.score)\n",
    "print(\"Passing: \", result.passing)  # default similarity threshold is 0.8"
   ]
  },
  {
   "cell_type": "code",
   "execution_count": 6,
   "id": "696c0f4f-76c2-4ca5-b7e8-41a83cc20d7f",
   "metadata": {},
   "outputs": [],
   "source": [
    "response = \"Sorry, I do not have sufficient context to answer this question.\"\n",
    "reference = \"\"\"The color of the sky can vary depending on several factors, including time of day, weather conditions, and location.\n",
    "\n",
    "During the day, when the sun is in the sky, the sky often appears blue. \n",
    "This is because of a phenomenon called Rayleigh scattering, where molecules and particles in the Earth's atmosphere scatter sunlight in all directions, and blue light is scattered more than other colors because it travels as shorter, smaller waves. \n",
    "This is why we perceive the sky as blue on a clear day.\n",
    "\"\"\"\n",
    "\n",
    "result = await evaluator.aevaluate(\n",
    "    response=response,\n",
    "    reference=reference,\n",
    ")"
   ]
  },
  {
   "cell_type": "code",
   "execution_count": 7,
   "id": "7b596bdb-a252-4dc2-8b42-ff81cc0f49c2",
   "metadata": {},
   "outputs": [
    {
     "name": "stdout",
     "output_type": "stream",
     "text": [
      "Score:  0.4570148774635365\n",
      "Passing:  False\n"
     ]
    }
   ],
   "source": [
    "print(\"Score: \", result.score)\n",
    "print(\"Passing: \", result.passing)  # default similarity threshold is 0.8"
   ]
  },
  {
   "cell_type": "markdown",
   "id": "1ed2e763-fdc0-4088-85fc-a6450c9af5f8",
   "metadata": {},
   "source": [
    "### Customization"
   ]
  },
  {
   "cell_type": "code",
   "execution_count": 10,
   "id": "ff2d0ba4-81aa-42c2-8a71-a7d0c6ab81cd",
   "metadata": {},
   "outputs": [],
   "source": [
    "from llama_index.core.evaluation import SemanticSimilarityEvaluator\n",
    "from llama_index.core.embeddings import resolve_embed_model\n",
    "from llama_index.core.base.embeddings.base import SimilarityMode\n",
    "\n",
    "local_embed_model = \"sentence-transformers/all-MiniLM-L6-v2\"\n",
    "embed_model = resolve_embed_model(f\"local:{local_embed_model}\")\n",
    "evaluator = SemanticSimilarityEvaluator(\n",
    "    embed_model=embed_model,\n",
    "    similarity_mode=SimilarityMode.DEFAULT,\n",
    "    similarity_threshold=0.6,\n",
    ")"
   ]
  },
  {
   "cell_type": "code",
   "execution_count": 11,
   "id": "31023be7-51b8-4ec7-8992-75cabaf16f9d",
   "metadata": {},
   "outputs": [],
   "source": [
    "response = \"The sky is yellow.\"\n",
    "reference = \"The sky is blue.\"\n",
    "\n",
    "result = await evaluator.aevaluate(\n",
    "    response=response,\n",
    "    reference=reference,\n",
    ")"
   ]
  },
  {
   "cell_type": "code",
   "execution_count": 12,
   "id": "a3ef7f4d-4630-4fff-b293-593ccd3b4f70",
   "metadata": {},
   "outputs": [
    {
     "name": "stdout",
     "output_type": "stream",
     "text": [
      "Score:  0.6470747655095268\n",
      "Passing:  True\n"
     ]
    }
   ],
   "source": [
    "print(\"Score: \", result.score)\n",
    "print(\"Passing: \", result.passing)"
   ]
  },
  {
   "cell_type": "markdown",
   "id": "70152c1c-7ca4-42eb-b364-b7773d8c4d88",
   "metadata": {},
   "source": [
    "We note here that a high score does not imply the answer is always correct.  \n",
    "\n",
    "Embedding similarity primarily captures the notion of \"relevancy\". Since both the response and reference discuss \"the sky\" and colors, they are semantically similar."
   ]
  }
 ],
 "metadata": {
  "kernelspec": {
   "display_name": "Python 3 (ipykernel)",
   "language": "python",
   "name": "python3"
  },
  "language_info": {
   "codemirror_mode": {
    "name": "ipython",
    "version": 3
   },
   "file_extension": ".py",
   "mimetype": "text/x-python",
   "name": "python",
   "nbconvert_exporter": "python",
   "pygments_lexer": "ipython3",
   "version": "3.12.7"
  }
 },
 "nbformat": 4,
 "nbformat_minor": 5
}
